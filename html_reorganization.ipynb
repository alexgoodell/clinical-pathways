{
 "cells": [
  {
   "cell_type": "code",
   "execution_count": 64,
   "id": "initial_id",
   "metadata": {
    "collapsed": true,
    "ExecuteTime": {
     "end_time": "2024-03-06T13:26:51.621398Z",
     "start_time": "2024-03-06T13:26:51.618763Z"
    }
   },
   "outputs": [
    {
     "data": {
      "text/plain": "'<h1 id=\"breast-surgery-clinical-pathway\">Breast Surgery Clinical\\nPathway</h1>\\n<h2 id=\"preoperative\">Preoperative</h2>\\n<h3 id=\"npo-guidelines\">NPO Guidelines</h3>\\n<figure>\\n<img src=\"static/img/vector-1.svg\" alt=\"icon\" />\\n<figcaption aria-hidden=\"true\">icon</figcaption>\\n</figure>\\n<ul>\\n<li>Stop full liquids 8 hrs prior to surgery</li>\\n<li>Stop water 2 hrs prior to surgery</li>\\n<li>Consider allowing breast patients who arrive early to pre-op for\\nlympho or mammography to drink water until 2 hrs prior to surgery</li>\\n</ul>\\n<h3 id=\"labs\">Labs</h3>\\n<figure>\\n<img src=\"static/img/vector-2.svg\" alt=\"icon\" />\\n<figcaption aria-hidden=\"true\">icon</figcaption>\\n</figure>\\n<ul>\\n<li>b-HCG for females patients under 66</li>\\n</ul>\\n<h3 id=\"pain-medications\">Pain Medications</h3>\\n<figure>\\n<img src=\"static/img/vector-3.svg\" alt=\"icon\" />\\n<figcaption aria-hidden=\"true\">icon</figcaption>\\n</figure>\\n<p>Non-opioid analgesia adjuncts to consider: - Acetaminophen 1000mg\\n(caution with hepatic disease) - Gabapentin 300mg</p>\\n<h3 id=\"ponv-prophylaxis-medications\">PONV Prophylaxis Medications</h3>\\n<figure>\\n<img src=\"static/img/vector-2.svg\" alt=\"icon\" />\\n<figcaption aria-hidden=\"true\">icon</figcaption>\\n</figure>\\n<p>Especially important if patient Apfel socre 3 or 4:</p>\\n<ul>\\n<li>Aprepitant 30mg PO</li>\\n<li>Scopolamine patch (avoid in patients over 60 year of age)</li>\\n</ul>\\n<h2 id=\"intraoperative\">Intraoperative</h2>\\n<h3 id=\"monitors\">Monitors</h3>\\n<figure>\\n<img src=\"static/img/vector-2.svg\" alt=\"icon\" />\\n<figcaption aria-hidden=\"true\">icon</figcaption>\\n</figure>\\n<ul>\\n<li>Standard monitors plus SEDline EEG for TIVA cases</li>\\n<li>Recommend core temperature monitoring for cases &gt;4 hrs</li>\\n<li>Tetragraph TOF for cases utilizing paralytics</li>\\n</ul>\\n<h3 id=\"additional-medications\">Additional Medications</h3>\\n<figure>\\n<img src=\"static/img/vector-1.svg\" alt=\"icon\" />\\n<figcaption aria-hidden=\"true\">icon</figcaption>\\n</figure>\\n<p>Non-opioid adjuncts to consider - Ketamine: 0.5mg/kg bolus +/-\\n2-5mcg/kg/min - Dexmedetomidine: consider bolus and/or infusion - IV\\nacetaminophen: if acetaminophen not given in pre-op or &gt;6 hours from\\npre-op dose - Ketorolac 10-30mg: if Celecoxib not given in pre-op and\\nwhen surgeons approve Opioid selection: - Consider methadone\\n0.1-0.2mg/kg for flaps</p>\\n<p>Anti-emetics to consider: - Dexamethasone 0.1mg/kg IV prior to\\nincision - Ondansetron 4mg IV - Haloperidol 0.5-1mg or droperidol\\n0.625-2.5mg (assess QTc)</p>\\n<h2 id=\"postoperative\">Postoperative</h2>\\n<h3 id=\"post-op-analgesia\">Post-op Analgesia</h3>\\n<figure>\\n<img src=\"static/img/vector-3.svg\" alt=\"icon\" />\\n<figcaption aria-hidden=\"true\">icon</figcaption>\\n</figure>\\n<ul>\\n<li>Fentanyl +/- hydromorphone IV PRN: decrease doses in setting of OSA\\nor respiratory compromise</li>\\n<li>Oxycodone PO</li>\\n</ul>\\n<h3 id=\"ponv-treatment\">PONV Treatment</h3>\\n<figure>\\n<img src=\"static/img/vector-3.svg\" alt=\"icon\" />\\n<figcaption aria-hidden=\"true\">icon</figcaption>\\n</figure>\\n<p>Select rescue medications from drug classes not previously employed\\nintraoperatively - Prochlorperazine - Promethazine - Haloperidol</p>\\n'"
     },
     "execution_count": 64,
     "metadata": {},
     "output_type": "execute_result"
    }
   ],
   "source": [
    "from bs4 import BeautifulSoup\n",
    "import urllib\n",
    "import pandas as pd\n",
    "from IPython.display import clear_output\n",
    "import os\n",
    "\n",
    "file_path = \"example_input.html\"\n",
    "with open(file_path, \"r\") as file:\n",
    "    contents = file.read()\n"
   ]
  },
  {
   "cell_type": "code",
   "outputs": [],
   "source": [
    "soup = BeautifulSoup(contents, 'html.parser')\n",
    "# print(soup.prettify())"
   ],
   "metadata": {
    "collapsed": false,
    "ExecuteTime": {
     "end_time": "2024-03-06T13:27:32.083346Z",
     "start_time": "2024-03-06T13:27:32.081869Z"
    }
   },
   "id": "640c3288d4d8dd16",
   "execution_count": 65
  },
  {
   "cell_type": "code",
   "outputs": [
    {
     "name": "stdout",
     "output_type": "stream",
     "text": [
      "Preoperative\n",
      "Intraoperative\n",
      "Postoperative\n"
     ]
    }
   ],
   "source": [
    "for h2 in soup.find_all('h2'):\n",
    "    print(h2.text)"
   ],
   "metadata": {
    "collapsed": false,
    "ExecuteTime": {
     "end_time": "2024-03-06T13:28:12.902606Z",
     "start_time": "2024-03-06T13:28:12.897698Z"
    }
   },
   "id": "f2121cc943393f95",
   "execution_count": 66
  },
  {
   "cell_type": "code",
   "outputs": [],
   "source": [
    "clue = soup.h2"
   ],
   "metadata": {
    "collapsed": false,
    "ExecuteTime": {
     "end_time": "2024-03-06T13:58:18.907070Z",
     "start_time": "2024-03-06T13:58:18.900281Z"
    }
   },
   "id": "da5869702062c72b",
   "execution_count": 75
  },
  {
   "cell_type": "code",
   "outputs": [
    {
     "data": {
      "text/plain": "'<h2 id=\"preoperative\">\\n Preoperative\\n</h2>\\n'"
     },
     "execution_count": 87,
     "metadata": {},
     "output_type": "execute_result"
    }
   ],
   "source": [
    "clue.prettify(formatter=\"html\")"
   ],
   "metadata": {
    "collapsed": false,
    "ExecuteTime": {
     "end_time": "2024-03-06T14:07:39.522528Z",
     "start_time": "2024-03-06T14:07:39.518528Z"
    }
   },
   "id": "db92388415fccc56",
   "execution_count": 87
  },
  {
   "cell_type": "code",
   "outputs": [
    {
     "data": {
      "text/plain": "<list_iterator at 0x122983a00>"
     },
     "execution_count": 68,
     "metadata": {},
     "output_type": "execute_result"
    }
   ],
   "source": [
    "soup.find('h2').next_sibling.next_sibling.children"
   ],
   "metadata": {
    "collapsed": false,
    "ExecuteTime": {
     "end_time": "2024-03-06T13:28:17.755909Z",
     "start_time": "2024-03-06T13:28:17.753507Z"
    }
   },
   "id": "dab65e395850cf10",
   "execution_count": 68
  },
  {
   "cell_type": "code",
   "outputs": [],
   "source": [
    "title = soup.find('h1').text\n",
    "header = \"\"\n",
    "subheader = \"\"\n",
    "image_url = \"\"\n",
    "content_block = \"\"\n",
    "rows = []\n",
    "\n",
    "for sibling in soup.find('h1').next_siblings:\n",
    "    if sibling.name == \"h2\":\n",
    "        header = sibling.text\n",
    "    if sibling.name == \"p\" or sibling.name == \"ul\":\n",
    "        content_block += sibling.prettify(formatter=\"html\")\n",
    "    if sibling.name == \"figure\":\n",
    "        image_url = sibling.find('img')['src']\n",
    "        \n",
    "    if sibling.name == \"h3\":\n",
    "        row = {\n",
    "            \"header\": header,\n",
    "            \"subheader\": subheader,\n",
    "            \"image_url\": image_url,\n",
    "            \"content_block\": content_block,\n",
    "        }\n",
    "        rows.append(row)\n",
    "        \n",
    "        subheader = sibling.text\n",
    "        content_block = \"\"\n",
    "        \n",
    "df = pd.DataFrame(rows[1:])\n",
    "\n",
    "pre = df.query(\"header == 'Preoperative'\").to_dict(orient=\"records\")\n",
    "intra = df.query(\"header == 'Intraoperative'\").to_dict(orient=\"records\")\n",
    "post = df.query(\"header == 'Postoperative'\").to_dict(orient=\"records\")\n"
   ],
   "metadata": {
    "collapsed": false,
    "ExecuteTime": {
     "end_time": "2024-03-06T13:29:46.723422Z",
     "start_time": "2024-03-06T13:29:46.656939Z"
    }
   },
   "id": "1736941ee8ef50e4",
   "execution_count": 69
  },
  {
   "cell_type": "code",
   "outputs": [],
   "source": [
    "import jinja2\n",
    "environment = jinja2.Environment()\n",
    "template_string = '''\n",
    "{# templates/results.html #}\n",
    "<!DOCTYPE html>\n",
    "<html lang=\"en\">\n",
    "  <head>\n",
    "    <meta charset=\"utf-8\" />\n",
    "    <link rel=\"stylesheet\" href=\"human.css\" />\n",
    "    <meta name=\"viewport\" content=\"width=device-width, initial-scale=1.0\">\n",
    "  </head>\n",
    "\n",
    "<body>\n",
    "  <div class=\"title-banner\">Breast Clinical Care Pathway</div>\n",
    "  <div class=\"frame\">\n",
    "\n",
    "  <div class=\"group-holder\" role=\"list\">\n",
    "\n",
    "    <!------------------------- preop group ------------------------->\n",
    "    <div class=\"group preop\" role=\"listitem\">\n",
    "      <div class=\"groupheader\">Preoperative</div>\n",
    "      <div class=\"groupbody\">\n",
    "        {% for section in pre %}\n",
    "        <div class=\"subsection\">\n",
    "          <div class=\"dot\"><img class=\"vicon\" src=\"{{ section.image_url }}\"></div>\n",
    "          <div class=\"subsection-header\">{{ section.subheader }}</div>\n",
    "          <div class=\"subsection-body\">{{ section.content_block }}</div>\n",
    "        </div>\n",
    "        {% endfor %}\n",
    "      </div>\n",
    "    </div>\n",
    "      \n",
    "      <!------------------------- intra group ------------------------->\n",
    "    <div class=\"group intra\" role=\"listitem\">\n",
    "      <div class=\"groupheader\">Preoperative</div>\n",
    "      <div class=\"groupbody\">\n",
    "        {% for section in intra %}\n",
    "        <div class=\"subsection\">\n",
    "          <div class=\"dot\"><img class=\"vicon\" src=\"{{ section.image_url }}\"></div>\n",
    "          <div class=\"subsection-header\">{{ section.subheader }}</div>\n",
    "          <div class=\"subsection-body\">{{ section.content_block }}</div>\n",
    "        </div>\n",
    "        {% endfor %}\n",
    "      </div>\n",
    "    </div>\n",
    "    \n",
    "      <!------------------------- post group ------------------------->\n",
    "    <div class=\"group postop\" role=\"listitem\">\n",
    "      <div class=\"groupheader\">Preoperative</div>\n",
    "      <div class=\"groupbody\">\n",
    "        {% for section in post %}\n",
    "        <div class=\"subsection\">\n",
    "          <div class=\"dot\"><img class=\"vicon\" src=\"{{ section.image_url }}\"></div>\n",
    "          <div class=\"subsection-header\">{{ section.subheader }}</div>\n",
    "          <div class=\"subsection-body\">{{ section.content_block }}</div>\n",
    "        </div>\n",
    "        {% endfor %}\n",
    "      </div>\n",
    "    </div>\n",
    "\n",
    "      \n",
    "    <div class=\"foot\">\n",
    "      Version XYZ. Last updated Feb 31, 2023. Available online at <a href=\"https://pathways.stanes.link/breast\">https://pathways.stanes.link/breast</a>. Submit edits or comments there.\n",
    "    </div>\n",
    "  </div>\n",
    "  </div>\n",
    "\n",
    "\n",
    "</body>\n",
    "\n",
    "</html>\n",
    "\n",
    "'''\n",
    "template = environment.from_string(template_string)\n"
   ],
   "metadata": {
    "collapsed": false,
    "ExecuteTime": {
     "end_time": "2024-03-06T13:29:49.572766Z",
     "start_time": "2024-03-06T13:29:49.570808Z"
    }
   },
   "id": "1aaa5686000dc6e4",
   "execution_count": 70
  },
  {
   "cell_type": "code",
   "outputs": [
    {
     "data": {
      "text/plain": "'\\n\\n<!DOCTYPE html>\\n<html lang=\"en\">\\n  <head>\\n    <meta charset=\"utf-8\" />\\n    <link rel=\"stylesheet\" href=\"human.css\" />\\n    <meta name=\"viewport\" content=\"width=device-width, initial-scale=1.0\">\\n  </head>\\n\\n<body>\\n  <div class=\"title-banner\">Breast Clinical Care Pathway</div>\\n  <div class=\"frame\">\\n\\n  <div class=\"group-holder\" role=\"list\">\\n\\n    <!------------------------- preop group ------------------------->\\n    <div class=\"group preop\" role=\"listitem\">\\n      <div class=\"groupheader\">Preoperative</div>\\n      <div class=\"groupbody\">\\n        \\n        <div class=\"subsection\">\\n          <div class=\"dot\"><img class=\"vicon\" src=\"static/img/vector-1.svg\"></div>\\n          <div class=\"subsection-header\">NPO Guidelines</div>\\n          <div class=\"subsection-body\">\\nStop full liquids 8 hrs prior to surgery\\nStop water 2 hrs prior to surgery\\nConsider allowing breast patients who arrive early to pre-op for\\nlympho or mammography to drink water until 2 hrs prior to surgery\\n</div>\\n        </div>\\n        \\n        <div class=\"subsection\">\\n          <div class=\"dot\"><img class=\"vicon\" src=\"static/img/vector-2.svg\"></div>\\n          <div class=\"subsection-header\">Labs</div>\\n          <div class=\"subsection-body\">\\nb-HCG for females patients under 66\\n</div>\\n        </div>\\n        \\n        <div class=\"subsection\">\\n          <div class=\"dot\"><img class=\"vicon\" src=\"static/img/vector-3.svg\"></div>\\n          <div class=\"subsection-header\">Pain Medications</div>\\n          <div class=\"subsection-body\">Non-opioid analgesia adjuncts to consider: - Acetaminophen 1000mg\\n(caution with hepatic disease) - Gabapentin 300mg</div>\\n        </div>\\n        \\n      </div>\\n    </div>\\n      \\n      <!------------------------- intra group ------------------------->\\n    <div class=\"group intra\" role=\"listitem\">\\n      <div class=\"groupheader\">Preoperative</div>\\n      <div class=\"groupbody\">\\n        \\n        <div class=\"subsection\">\\n          <div class=\"dot\"><img class=\"vicon\" src=\"static/img/vector-2.svg\"></div>\\n          <div class=\"subsection-header\">PONV Prophylaxis Medications</div>\\n          <div class=\"subsection-body\">Especially important if patient Apfel socre 3 or 4:\\nAprepitant 30mg PO\\nScopolamine patch (avoid in patients over 60 year of age)\\n</div>\\n        </div>\\n        \\n        <div class=\"subsection\">\\n          <div class=\"dot\"><img class=\"vicon\" src=\"static/img/vector-2.svg\"></div>\\n          <div class=\"subsection-header\">Monitors</div>\\n          <div class=\"subsection-body\">\\nStandard monitors plus SEDline EEG for TIVA cases\\nRecommend core temperature monitoring for cases >4 hrs\\nTetragraph TOF for cases utilizing paralytics\\n</div>\\n        </div>\\n        \\n      </div>\\n    </div>\\n    \\n      <!------------------------- post group ------------------------->\\n    <div class=\"group postop\" role=\"listitem\">\\n      <div class=\"groupheader\">Preoperative</div>\\n      <div class=\"groupbody\">\\n        \\n        <div class=\"subsection\">\\n          <div class=\"dot\"><img class=\"vicon\" src=\"static/img/vector-1.svg\"></div>\\n          <div class=\"subsection-header\">Additional Medications</div>\\n          <div class=\"subsection-body\">Non-opioid adjuncts to consider - Ketamine: 0.5mg/kg bolus +/-\\n2-5mcg/kg/min - Dexmedetomidine: consider bolus and/or infusion - IV\\nacetaminophen: if acetaminophen not given in pre-op or >6 hours from\\npre-op dose - Ketorolac 10-30mg: if Celecoxib not given in pre-op and\\nwhen surgeons approve Opioid selection: - Consider methadone\\n0.1-0.2mg/kg for flapsAnti-emetics to consider: - Dexamethasone 0.1mg/kg IV prior to\\nincision - Ondansetron 4mg IV - Haloperidol 0.5-1mg or droperidol\\n0.625-2.5mg (assess QTc)</div>\\n        </div>\\n        \\n        <div class=\"subsection\">\\n          <div class=\"dot\"><img class=\"vicon\" src=\"static/img/vector-3.svg\"></div>\\n          <div class=\"subsection-header\">Post-op Analgesia</div>\\n          <div class=\"subsection-body\">\\nFentanyl +/- hydromorphone IV PRN: decrease doses in setting of OSA\\nor respiratory compromise\\nOxycodone PO\\n</div>\\n        </div>\\n        \\n      </div>\\n    </div>\\n\\n      \\n    <div class=\"foot\">\\n      Version XYZ. Last updated Feb 31, 2023. Available online at <a href=\"https://pathways.stanes.link/breast\">https://pathways.stanes.link/breast</a>. Submit edits or comments there.\\n    </div>\\n  </div>\\n  </div>\\n\\n\\n</body>\\n\\n</html>\\n'"
     },
     "execution_count": 71,
     "metadata": {},
     "output_type": "execute_result"
    }
   ],
   "source": [
    "context = {\n",
    "    \"pre\": pre,\n",
    "    \"intra\": intra,\n",
    "    \"post\": post,\n",
    "    'title': title\n",
    "}\n",
    "template.render(context)\n",
    "\n",
    "\n",
    "\n"
   ],
   "metadata": {
    "collapsed": false,
    "ExecuteTime": {
     "end_time": "2024-03-06T13:29:57.765646Z",
     "start_time": "2024-03-06T13:29:57.687561Z"
    }
   },
   "id": "166671bc37b85f68",
   "execution_count": 71
  },
  {
   "cell_type": "code",
   "outputs": [],
   "source": [
    "results_template = environment.get_template(\"results.html\")"
   ],
   "metadata": {
    "collapsed": false
   },
   "id": "5c529d095db932b8"
  }
 ],
 "metadata": {
  "kernelspec": {
   "display_name": "Python 3",
   "language": "python",
   "name": "python3"
  },
  "language_info": {
   "codemirror_mode": {
    "name": "ipython",
    "version": 2
   },
   "file_extension": ".py",
   "mimetype": "text/x-python",
   "name": "python",
   "nbconvert_exporter": "python",
   "pygments_lexer": "ipython2",
   "version": "2.7.6"
  }
 },
 "nbformat": 4,
 "nbformat_minor": 5
}
